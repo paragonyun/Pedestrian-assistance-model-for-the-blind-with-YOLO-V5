{
  "nbformat": 4,
  "nbformat_minor": 0,
  "metadata": {
    "colab": {
      "name": "YOLO V5.ipynb",
      "provenance": [],
      "collapsed_sections": [],
      "machine_shape": "hm"
    },
    "kernelspec": {
      "name": "python3",
      "display_name": "Python 3"
    },
    "language_info": {
      "name": "python"
    },
    "accelerator": "GPU",
    "gpuClass": "standard"
  },
  "cells": [
    {
      "cell_type": "markdown",
      "source": [
        "# Install & Import"
      ],
      "metadata": {
        "id": "_XcDRtx2jTWH"
      }
    },
    {
      "cell_type": "code",
      "source": [
        "from google.colab import drive\n",
        "drive.mount('/content/gdrive')"
      ],
      "metadata": {
        "id": "96FnndntkQdX"
      },
      "execution_count": null,
      "outputs": []
    },
    {
      "cell_type": "code",
      "source": [
        "import torch\n",
        "import os\n",
        "import shutil\n",
        "import random\n",
        "\n",
        "from sklearn.model_selection import train_test_split\n",
        "\n",
        "from tqdm import tqdm\n",
        "\n",
        "from glob import glob\n",
        "\n",
        "import yaml"
      ],
      "metadata": {
        "id": "4vILj1CdUD4K"
      },
      "execution_count": null,
      "outputs": []
    },
    {
      "cell_type": "code",
      "source": [
        "!pip install wandb\n",
        "\n",
        "'''\n",
        "이거 깃헙 올릴 때는 삭제하셈!!!!!!!!!!!\n",
        "my API key :\n",
        "\n",
        "a7ddd85e3da80c4a8503ee85e4685caa32deb381\n",
        "'''"
      ],
      "metadata": {
        "id": "ncrBMByfR_vy"
      },
      "execution_count": null,
      "outputs": []
    },
    {
      "cell_type": "markdown",
      "source": [
        "# YOLO V5 설치"
      ],
      "metadata": {
        "id": "pXz5MoWC1JHe"
      }
    },
    {
      "cell_type": "code",
      "source": [
        "!git clone https://github.com/ultralytics/yolov5  # clone\n",
        "%cd yolov5\n",
        "%pip install -qr requirements.txt  # install\n",
        "\n"
      ],
      "metadata": {
        "id": "CvZ7OPXMjS8l"
      },
      "execution_count": null,
      "outputs": []
    },
    {
      "cell_type": "markdown",
      "source": [
        "# Custom Dataset 정리"
      ],
      "metadata": {
        "id": "t_YG_u3d1MJj"
      }
    },
    {
      "cell_type": "code",
      "source": [
        "\n",
        "## Unzip Image File\n",
        "%cd /content\n",
        "!unzip -qq \"/content/gdrive/MyDrive/Colab Notebooks/YOLO V5/cross.zip\" ## Folder 6개가 생김\n",
        "print('Complete!')"
      ],
      "metadata": {
        "id": "3kIPha8wjS6R"
      },
      "execution_count": null,
      "outputs": []
    },
    {
      "cell_type": "code",
      "source": [
        "'''\n",
        "압축이 해제된 폴더들은 Object의 수에 따라 1~6으로 구분 해둔 것임\n",
        "따라서 일단 안의 파일들을 다 하나로 합쳐준 다음 Train Val 분리를 해주기로 결정\n",
        "'''\n",
        "\n",
        "os.makedirs('./dataset') ## 1~6으로 분할 되어있는 파일을 다 모아줄 폴더 생성\n",
        "\n",
        "to_here = '/content/dataset'\n",
        "\n",
        "\n",
        "for i in tqdm(range(1,7)) :\n",
        "    get_file = os.listdir(f'/content/교차로정보 데이터셋_bbox_{i}') ## 폴더 내의 파일들 리스트로 묶음\n",
        "    for j in get_file :\n",
        "        shutil.move(f'/content/교차로정보 데이터셋_bbox_{i}/'+j, to_here) ## dataset 폴더로 모두 이동\n",
        "    os.rmdir(f'/content/교차로정보 데이터셋_bbox_{i}') "
      ],
      "metadata": {
        "id": "8794ckmojS4L"
      },
      "execution_count": null,
      "outputs": []
    },
    {
      "cell_type": "code",
      "source": [
        "## YOLO V5 폴더의 data 파일에 image - train/valid 폴더 생성\n",
        "os.makedirs('/content/yolov5/data/images/train') \n",
        "os.makedirs('/content/yolov5/data/images/valid')\n",
        "\n",
        "## 라벨도 형성\n",
        "os.makedirs('/content/yolov5/data/labels')\n",
        "os.makedirs('/content/yolov5/data/labels/train')\n",
        "os.makedirs('/content/yolov5/data/labels/valid') \n",
        "\n",
        "img_lst = []\n",
        "label_lst = []\n",
        "\n",
        "\n",
        "get_file = os.listdir(f'/content/dataset') ## 폴더 내의 파일들 리스트로 묶음\n",
        "for j in get_file :\n",
        "    if '.jpg' in j :\n",
        "        img_lst.append(j)\n",
        "    elif 'json' in j :\n",
        "        label_lst.append(j)\n",
        "\n",
        "train_img , val_img = train_test_split(img_lst, test_size=0.2, random_state=42) ## train set과 validation set 분리\n",
        "\n",
        "train_lab = []\n",
        "val_lab = []\n",
        "for i in tqdm(label_lst) :\n",
        "    if i.split('.')[0] + '.jpg' in train_img :\n",
        "        train_lab.append(i)\n",
        "\n",
        "    elif i.split('.')[0] + '.jpg' in val_img: \n",
        "        val_lab.append(i)"
      ],
      "metadata": {
        "id": "jh1hbXbCuPWP"
      },
      "execution_count": null,
      "outputs": []
    },
    {
      "cell_type": "code",
      "source": [
        "print(f'Train Image 수 : {len(train_img)}')\n",
        "print(f'Train Image 수 : {len(train_lab)}')\n",
        "print(f'Train Image 수 : {len(val_img)}')\n",
        "print(f'Train Image 수 : {len(val_lab)}')"
      ],
      "metadata": {
        "id": "CcwjYk5MjS0I"
      },
      "execution_count": null,
      "outputs": []
    },
    {
      "cell_type": "code",
      "source": [
        "for a, b in zip(train_img, train_lab) :\n",
        "    shutil.move(f'/content/dataset/{a}', '/content/yolov5/data/images/train')\n",
        "    shutil.move(f'/content/dataset/{b}', '/content/yolov5/data/images/valid')\n",
        "\n",
        "for c,d in zip(val_img, val_lab) : \n",
        "    shutil.move(f'/content/dataset/{c}', '/content/yolov5/data/labels/train')\n",
        "    shutil.move(f'/content/dataset/{d}', '/content/yolov5/data/labels/valid')\n",
        "\n"
      ],
      "metadata": {
        "id": "bCxTXx7XjSxr"
      },
      "execution_count": null,
      "outputs": []
    },
    {
      "cell_type": "code",
      "source": [
        "train_path = list(glob('/content/yolov5/data/images/train/*.jpg'))\n",
        "valid_path = list(glob('/content/yolov5/data/images/valid/*.jpg'))"
      ],
      "metadata": {
        "id": "FYc9yypRaGFf"
      },
      "execution_count": null,
      "outputs": []
    },
    {
      "cell_type": "code",
      "source": [
        "## YOLO V5 는 파일의 경로를 txt로 알려줘야 한다\n",
        "with open('/content/yolov5/data/images/train.txt','w') as f :\n",
        "    f.write('\\n'.join(train_path) + '\\n')\n",
        "\n",
        "with open('/content/yolov5/data/images/valid.txt','w') as f :\n",
        "    f.write('\\n'.join(valid_path) + '\\n')"
      ],
      "metadata": {
        "id": "g3EFV59ZZqgV"
      },
      "execution_count": null,
      "outputs": []
    },
    {
      "cell_type": "code",
      "source": [
        "## Custom Dataset 용 yaml 파일 생성\n",
        "with open('/content/yolov5/data/dataset.yaml', 'w') as f:\n",
        "\n",
        "    f.close()\n",
        "\n",
        "\n",
        "with open('/content/yolov5/data/dataset.yaml', 'r') as f:\n",
        "    data = yaml.safe_load(f)\n",
        "\n",
        "## 학습 데이터, 검증 데이터 경로 지정\n",
        "data['train'] = '/content/yolov5/data/images/train'\n",
        "data['valid'] = '/content/yolov5/data/images/valid'\n",
        "\n",
        "## 클래스 수\n",
        "data['nc'] = 3\n",
        "\n",
        "## 종류\n",
        "data ['names'] = ['Zebra_Cross', 'G_Signal', 'R_Signal']"
      ],
      "metadata": {
        "id": "FJVMoN0njSpE"
      },
      "execution_count": null,
      "outputs": []
    },
    {
      "cell_type": "code",
      "execution_count": null,
      "metadata": {
        "id": "H3biKFXFnASN"
      },
      "outputs": [],
      "source": [
        "%cd /content/yolov5"
      ]
    },
    {
      "cell_type": "code",
      "source": [
        "!pip install -U PyYAML"
      ],
      "metadata": {
        "id": "HZhK0rzkY4Yo"
      },
      "execution_count": null,
      "outputs": []
    },
    {
      "cell_type": "code",
      "source": [
        "!python train.py --img 640 --batch 32 --epochs 50 --data ./data/dataset.yaml --cfg ./models/yolov5s.yaml --weights yolov5s.pt --name yolo_test"
      ],
      "metadata": {
        "id": "7bpkQi8PceT5"
      },
      "execution_count": null,
      "outputs": []
    },
    {
      "cell_type": "code",
      "source": [
        "https://colab.research.google.com/drive/1IHpT1Cv17bJVleWBEyRifGJiPyFFVv0o?usp=sharing#scrollTo=TQQ-ZJApwKCZ"
      ],
      "metadata": {
        "id": "PMtjDhjlXNYI"
      },
      "execution_count": null,
      "outputs": []
    }
  ]
}